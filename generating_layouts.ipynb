{
 "cells": [
  {
   "cell_type": "code",
   "execution_count": 1,
   "id": "e3e52956",
   "metadata": {},
   "outputs": [],
   "source": [
    "import numpy as np\n",
    "import pandas as pd\n",
    "import random\n",
    "import itertools\n",
    "import ast\n",
    "import csv\n",
    "\n",
    "from helper_functions import *"
   ]
  },
  {
   "cell_type": "markdown",
   "id": "000de23c",
   "metadata": {},
   "source": [
    "output should be 3 files: 1) walls_dict.csv, 2) object_list_x.csv, and 3) drift_ranges_x.csv"
   ]
  },
  {
   "cell_type": "markdown",
   "id": "232b5575",
   "metadata": {},
   "source": [
    "maybe only lengths of 150?"
   ]
  },
  {
   "cell_type": "markdown",
   "id": "c1428cd8",
   "metadata": {},
   "source": [
    "obstacles from y=50 onwards."
   ]
  },
  {
   "cell_type": "markdown",
   "id": "c487b7ad",
   "metadata": {},
   "source": [
    "just 2 drift sections for a length of 150."
   ]
  },
  {
   "cell_type": "markdown",
   "id": "ea77a3ae",
   "metadata": {},
   "source": [
    "sample y_start from 50 - 130"
   ]
  },
  {
   "cell_type": "markdown",
   "id": "cceed2b3",
   "metadata": {},
   "source": [
    "## Loop for generating layouts"
   ]
  },
  {
   "cell_type": "code",
   "execution_count": 14,
   "id": "e6c44885",
   "metadata": {},
   "outputs": [
    {
     "name": "stdout",
     "output_type": "stream",
     "text": [
      "[[158, 173, 1, True, False], [67, 82, -1, True, False], [210, 225, 1, True, False], [264, 279, -1, True, False]]\n"
     ]
    }
   ],
   "source": [
    "layout_length = 301 #151\n",
    "\n",
    "# walls stay the same\n",
    "dict_keys = [str(x) for x in range(1, layout_length)]\n",
    "walls_dict = dict.fromkeys(dict_keys, [0, 41])\n",
    "with open('walls_dict.csv','w') as f:\n",
    "    w = csv.writer(f)\n",
    "    w.writerows(walls_dict.items())\n",
    "\n",
    "# obstacles\n",
    "num_entries = 5  # number of obstacles per drift section\n",
    "# x ranges stay the same\n",
    "x_values = list(range(2, 39))\n",
    "\n",
    "# drift sections\n",
    "safety_distance = 30\n",
    "drift_range = 15\n",
    "\n",
    "#for layout in range(1, 81):\n",
    "for layout in range(1, 2):\n",
    "    \n",
    "    # generate drift sections\n",
    "    ## 1st section\n",
    "    y_start_1 = random.randint(50, layout_length-21)\n",
    "    y_end_1 = y_start_1 + drift_range\n",
    "    \n",
    "    ## 2nd section\n",
    "    y_start_2 = None\n",
    "\n",
    "    while y_start_2 is None:\n",
    "        y_start_2 = random.randint(50, layout_length-21)\n",
    "        ranges = [(y_start_1-safety_distance, y_end_1+safety_distance)]\n",
    "        if any(lower <= y_start_2 <= upper for (lower, upper) in ranges):\n",
    "            y_start_2 = None\n",
    "    y_end_2 = y_start_2 + drift_range\n",
    "    \n",
    "    ## 3rd section\n",
    "    y_start_3 = None\n",
    "\n",
    "    while y_start_3 is None:\n",
    "        y_start_3 = random.randint(50, layout_length-21)\n",
    "        ranges = [(y_start_1-safety_distance, y_end_1+safety_distance), (y_start_2-safety_distance, y_end_2+safety_distance)]\n",
    "        if any(lower <= y_start_3 <= upper for (lower, upper) in ranges):\n",
    "            y_start_3 = None\n",
    "    y_end_3 = y_start_3 + drift_range\n",
    "    \n",
    "    ## 4th section\n",
    "    y_start_4 = None\n",
    "\n",
    "    while y_start_4 is None:\n",
    "        y_start_4 = random.randint(50, layout_length-21)\n",
    "        ranges = [(y_start_1-safety_distance, y_end_1+safety_distance), (y_start_2-safety_distance, y_end_2+safety_distance), (y_start_3-safety_distance, y_end_3+safety_distance)]\n",
    "        if any(lower <= y_start_4 <= upper for (lower, upper) in ranges):\n",
    "            y_start_4 = None\n",
    "    y_end_4 = y_start_4 + drift_range\n",
    "\n",
    "    drift_section_1 = [y_start_1, y_end_1, random.choice([-1, 1]), True, False]\n",
    "    drift_section_2 = [y_start_2, y_end_2, random.choice([-1, 1]), True, False]\n",
    "    drift_section_3 = [y_start_3, y_end_3, random.choice([-1, 1]), True, False]\n",
    "    drift_section_4 = [y_start_4, y_end_4, random.choice([-1, 1]), True, False]\n",
    "    \n",
    "    drift_sections = [drift_section_1, drift_section_2, drift_section_3, drift_section_4]\n",
    "    print(drift_sections)\n",
    "    \n",
    "    with open(f'drift_ranges_{layout}.csv','w') as f:\n",
    "        w = csv.writer(f)\n",
    "        w.writerows(drift_sections)\n",
    "    \n",
    "    \n",
    "    # generate obstacles (dicts in list)\n",
    "    # 5 for every drift section\n",
    "    \n",
    "    # define ranges for y\n",
    "    y_values = list(range(y_start_1, y_end_1)) \n",
    "    obstacles_1 = [{'x': random.choice(x_values), 'y': random.choice(y_values), 'size': 2} for _ in range(num_entries)]\n",
    "\n",
    "    y_values = list(range(y_start_2, y_end_2)) \n",
    "    obstacles_2 = [{'x': random.choice(x_values), 'y': random.choice(y_values), 'size': 2} for _ in range(num_entries)]\n",
    "\n",
    "    y_values = list(range(y_start_3, y_end_3)) \n",
    "    obstacles_3 = [{'x': random.choice(x_values), 'y': random.choice(y_values), 'size': 2} for _ in range(num_entries)]\n",
    "\n",
    "    y_values = list(range(y_start_4, y_end_4)) \n",
    "    obstacles_4 = [{'x': random.choice(x_values), 'y': random.choice(y_values), 'size': 2} for _ in range(num_entries)]\n",
    "\n",
    "    # Combine dictionaries with unique keys\n",
    "    combined_obstacles_dict = {}\n",
    "    counter = 0\n",
    "\n",
    "    for d_list in [obstacles_1, obstacles_2, obstacles_3, obstacles_4]:\n",
    "        for item in d_list:\n",
    "            combined_obstacles_dict[counter] = item\n",
    "            counter += 1\n",
    "\n",
    "    keys = combined_obstacles_dict[0].keys()\n",
    "\n",
    "    with open(f'object_list_{layout}.csv','w') as f:\n",
    "        writer = csv.DictWriter(f, fieldnames=keys)\n",
    "        writer.writerows(combined_obstacles_dict.values())"
   ]
  },
  {
   "cell_type": "markdown",
   "id": "db668548",
   "metadata": {},
   "source": [
    "## Helper functions"
   ]
  },
  {
   "cell_type": "code",
   "execution_count": 126,
   "id": "e3e9e7f9",
   "metadata": {},
   "outputs": [],
   "source": [
    "def get_walls(filename: str):\n",
    "    \"\"\"\n",
    "    :param filename: filename of .txt file containing positions for all wall tiles. file must be in logs directory\n",
    "    :return simple_dict: a dict easily accessible to grab individual positions of wall tiles\n",
    "    \"\"\"\n",
    "    complete_path = os.getcwd() + '/logs/' + filename\n",
    "    \n",
    "    walls_df = pd.read_csv(complete_path, usecols=[1], header=None)\n",
    "    walls_dict = walls_df.to_dict(orient='index')\n",
    "    \n",
    "    simple_dict = {key+1: ast.literal_eval(value[1]) for key, value in walls_dict.items()}  # +1 for starting at 1\n",
    "    \n",
    "    return simple_dict\n",
    "\n",
    "\n",
    "def adjust_walls(walls_dict, scaling, edge):\n",
    "    \"\"\"\n",
    "    :param walls_dict:\n",
    "    :param scaling: int to scale up on-screen visualization\n",
    "    :return updated walls_dict\n",
    "    \"\"\"\n",
    "    for i in range(1, len(walls_dict)+1):\n",
    "        walls_dict[i][0] = (walls_dict[i][0] + edge) * scaling\n",
    "        walls_dict[i][1] = ((walls_dict[i][1] - 1) + edge) * scaling\n",
    "        \n",
    "    return walls_dict"
   ]
  },
  {
   "cell_type": "code",
   "execution_count": null,
   "id": "3d64a08b",
   "metadata": {},
   "outputs": [],
   "source": []
  },
  {
   "cell_type": "code",
   "execution_count": 31,
   "id": "811cf54a",
   "metadata": {
    "scrolled": true
   },
   "outputs": [],
   "source": [
    "def get_obstacles(filename: str, colnames=['x', 'y', 'size']):\n",
    "    \n",
    "    complete_path = os.getcwd() + '/logs/' + filename\n",
    "    \n",
    "    obstacles_df = pd.read_csv(complete_path, names=colnames, header=None)\n",
    "    obstacles_dict = obstacles_df.to_dict(orient='index')\n",
    "    \n",
    "    return obstacles_dict\n",
    "\n",
    "\n",
    "def adjust_obstacles(obstacles_dict, scaling, edge):\n",
    "    \"\"\"\n",
    "    :param\n",
    "    :return\n",
    "    \"\"\"\n",
    "    for i in obstacles_dict:\n",
    "        obstacles_dict[i]['x'] = ((obstacles_dict[i]['x'] - 1) + edge) * scaling\n",
    "        obstacles_dict[i]['y'] = (obstacles_dict[i]['y'] - 1) * scaling\n",
    "        obstacles_dict[i]['size'] = obstacles_dict[i]['size'] * scaling\n",
    "    return obstacles_dict"
   ]
  },
  {
   "cell_type": "code",
   "execution_count": null,
   "id": "cd91a3a1",
   "metadata": {},
   "outputs": [],
   "source": []
  },
  {
   "cell_type": "code",
   "execution_count": 122,
   "id": "e29e5250",
   "metadata": {},
   "outputs": [],
   "source": [
    "def get_drift_sections(filename: str, colnames=['y_start', 'y_end', 'direction', 'visibility', 'fake']):\n",
    "    \n",
    "    complete_path = os.getcwd() + '/logs/' + filename\n",
    "    drift_df = pd.read_csv(complete_path, names=colnames, header=None)\n",
    "\n",
    "    drift_dict = drift_df.to_dict(orient='index')\n",
    "    \n",
    "    return drift_dict\n",
    "\n",
    "\n",
    "def adjust_drift_sections(drift_dict, scaling):\n",
    "    \"\"\"\n",
    "    param\n",
    "    return\n",
    "    \"\"\"\n",
    "    for i in drift_dict:\n",
    "        drift_dict[i]['y_start'] = (drift_dict[i]['y_start'] - 1) * scaling\n",
    "        drift_dict[i]['y_end'] = (drift_dict[i]['y_end'] - 1) * scaling\n",
    "    return drift_dict"
   ]
  },
  {
   "cell_type": "code",
   "execution_count": null,
   "id": "add8e9ac",
   "metadata": {},
   "outputs": [],
   "source": []
  }
 ],
 "metadata": {
  "kernelspec": {
   "display_name": "datascience",
   "language": "python",
   "name": "datascience"
  },
  "language_info": {
   "codemirror_mode": {
    "name": "ipython",
    "version": 3
   },
   "file_extension": ".py",
   "mimetype": "text/x-python",
   "name": "python",
   "nbconvert_exporter": "python",
   "pygments_lexer": "ipython3",
   "version": "3.9.18"
  }
 },
 "nbformat": 4,
 "nbformat_minor": 5
}
